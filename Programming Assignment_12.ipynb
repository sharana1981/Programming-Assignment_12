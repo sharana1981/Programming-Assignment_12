{
 "cells": [
  {
   "cell_type": "markdown",
   "id": "1f1babaa",
   "metadata": {},
   "source": [
    "# Programming Assignment_12"
   ]
  },
  {
   "cell_type": "raw",
   "id": "2cdc22ee",
   "metadata": {},
   "source": [
    "1)Write a Python program to Extract Unique values dictionary values?"
   ]
  },
  {
   "cell_type": "code",
   "execution_count": 15,
   "id": "fd28477d",
   "metadata": {},
   "outputs": [
    {
     "name": "stdout",
     "output_type": "stream",
     "text": [
      "1\n",
      "4\n",
      "5\n"
     ]
    }
   ],
   "source": [
    "di={\"a\":1,\"b\":2,\"c\":4,\"d\":2,\"e\":5}\n",
    "l=list(di.values())\n",
    "count=0\n",
    "for i in range (0,len(l)):\n",
    "    if l.count(l[i])==1:\n",
    "        print(l[i])"
   ]
  },
  {
   "cell_type": "raw",
   "id": "0e0912a5",
   "metadata": {},
   "source": [
    "2)Write a Python program to find the sum of all items in a dictionary?"
   ]
  },
  {
   "cell_type": "code",
   "execution_count": 29,
   "id": "e700c973",
   "metadata": {},
   "outputs": [
    {
     "name": "stdout",
     "output_type": "stream",
     "text": [
      "224\n"
     ]
    }
   ],
   "source": [
    "di={6:1,7:2,8:4,9:2,12:5,90:78}\n",
    "l=list(di.items())\n",
    "sum=0\n",
    "for i in range(0,len(l)):\n",
    "    for j in range(0,2):\n",
    "        sum+=l[i][j]\n",
    "print(sum)\n",
    "    "
   ]
  },
  {
   "cell_type": "raw",
   "id": "62f1ee77",
   "metadata": {},
   "source": [
    "3)Write a Python program to Merging two Dictionaries?"
   ]
  },
  {
   "cell_type": "code",
   "execution_count": 37,
   "id": "f72d9afe",
   "metadata": {},
   "outputs": [
    {
     "name": "stdout",
     "output_type": "stream",
     "text": [
      "{'a': 1, 'b': 2, 'c': 4, 'd': 2, 'e': 5, 6: 1, 7: 2, 8: 4, 9: 2, 12: 5, 90: 78}\n"
     ]
    }
   ],
   "source": [
    "di={\"a\":1,\"b\":2,\"c\":4,\"d\":2,\"e\":5}\n",
    "di1={6:1,7:2,8:4,9:2,12:5,90:78}\n",
    "di.update(di1)\n",
    "print(di)"
   ]
  },
  {
   "cell_type": "code",
   "execution_count": null,
   "id": "ef0a0479",
   "metadata": {},
   "outputs": [],
   "source": [
    "4)Write a Python program to convert key-values list to flat dictionary?"
   ]
  },
  {
   "cell_type": "code",
   "execution_count": 41,
   "id": "64351204",
   "metadata": {},
   "outputs": [
    {
     "name": "stdout",
     "output_type": "stream",
     "text": [
      "['a', 1, 'b', 2, 'c', 4, 'd', 2, 'e', 5]\n"
     ]
    }
   ],
   "source": [
    "di={\"a\":1,\"b\":2,\"c\":4,\"d\":2,\"e\":5}\n",
    "l=list(di.items())\n",
    "l1=[]\n",
    "for i in range(0,len(l)):\n",
    "    for j in range(0,2):\n",
    "        l1.append(l[i][j])\n",
    "print(l1)"
   ]
  },
  {
   "cell_type": "code",
   "execution_count": null,
   "id": "b1d8d186",
   "metadata": {},
   "outputs": [],
   "source": [
    "5)Write a Python program to insertion at the beginning in OrderedDict?"
   ]
  },
  {
   "cell_type": "code",
   "execution_count": 43,
   "id": "8ae95a10",
   "metadata": {},
   "outputs": [
    {
     "name": "stdout",
     "output_type": "stream",
     "text": [
      "{1: 'sharan', 'a': 1, 'b': 2, 'c': 4, 'd': 2, 'e': 5}\n"
     ]
    }
   ],
   "source": [
    "a={1:\"sharan\"}\n",
    "a.update(di)\n",
    "print(a)"
   ]
  },
  {
   "cell_type": "raw",
   "id": "39d8bd4d",
   "metadata": {},
   "source": [
    "6)Write a Python program to check order of character in string using OrderedDict()?"
   ]
  },
  {
   "cell_type": "code",
   "execution_count": 51,
   "id": "0e3d79b7",
   "metadata": {},
   "outputs": [
    {
     "name": "stdout",
     "output_type": "stream",
     "text": [
      "This is a Dict:\n",
      "\n",
      "a 1\n",
      "b 2\n",
      "c 3\n",
      "d 4\n",
      "\n",
      "This is an Ordered Dict:\n",
      "\n",
      "a 1\n",
      "b 2\n",
      "c 3\n",
      "d 4\n"
     ]
    }
   ],
   "source": [
    "from collections import OrderedDict\n",
    "\n",
    "print(\"This is a Dict:\\n\")\n",
    "d = {}\n",
    "d['a'] = 1\n",
    "d['b'] = 2\n",
    "d['c'] = 3\n",
    "d['d'] = 4\n",
    "\n",
    "for key, value in d.items():\n",
    "\tprint(key, value)\n",
    "\n",
    "print(\"\\nThis is an Ordered Dict:\\n\")\n",
    "od = OrderedDict()\n",
    "od['a'] = 1\n",
    "od['b'] = 2\n",
    "od['c'] = 3\n",
    "od['d'] = 4\n",
    "\n",
    "for key, value in od.items():\n",
    "\tprint(key, value)\n"
   ]
  },
  {
   "cell_type": "raw",
   "id": "6bffd311",
   "metadata": {},
   "source": [
    "7)Write a Python program to sort Python Dictionaries by Key or Value?"
   ]
  },
  {
   "cell_type": "code",
   "execution_count": 52,
   "id": "d3808810",
   "metadata": {},
   "outputs": [
    {
     "name": "stdout",
     "output_type": "stream",
     "text": [
      "OrderedDict([('rajnish', '9'), ('ravi', '10'), ('sanjeev', '15'), ('suraj', '32'), ('yash', '2')])\n"
     ]
    }
   ],
   "source": [
    "from collections import OrderedDict\n",
    "\n",
    "dict = {'ravi': '10', 'rajnish': '9',\n",
    "\t\t'sanjeev': '15', 'yash': '2', 'suraj': '32'}\n",
    "dict1 = OrderedDict(sorted(dict.items()))\n",
    "print(dict1)\n"
   ]
  },
  {
   "cell_type": "code",
   "execution_count": null,
   "id": "b0aa03ea",
   "metadata": {},
   "outputs": [],
   "source": []
  }
 ],
 "metadata": {
  "kernelspec": {
   "display_name": "Python 3 (ipykernel)",
   "language": "python",
   "name": "python3"
  },
  "language_info": {
   "codemirror_mode": {
    "name": "ipython",
    "version": 3
   },
   "file_extension": ".py",
   "mimetype": "text/x-python",
   "name": "python",
   "nbconvert_exporter": "python",
   "pygments_lexer": "ipython3",
   "version": "3.9.12"
  }
 },
 "nbformat": 4,
 "nbformat_minor": 5
}
